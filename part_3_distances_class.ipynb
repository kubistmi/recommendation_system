{
 "cells": [
  {
   "cell_type": "code",
   "execution_count": 1,
   "metadata": {
    "slideshow": {
     "slide_type": "skip"
    }
   },
   "outputs": [],
   "source": [
    "# jupyter tricks\n",
    "from IPython.core.display import display, HTML\n",
    "\n",
    "import numpy as np\n",
    "import pandas as pd\n",
    "import matplotlib.pyplot as plt\n",
    "import scipy.spatial.distance as dst"
   ]
  },
  {
   "cell_type": "markdown",
   "metadata": {
    "slideshow": {
     "slide_type": "slide"
    }
   },
   "source": [
    "# Distances & Classification & PCA\n",
    "### You can call it lingebra (linear algebra)"
   ]
  },
  {
   "cell_type": "markdown",
   "metadata": {
    "slideshow": {
     "slide_type": "slide"
    }
   },
   "source": [
    "## Part 6 - Distances"
   ]
  },
  {
   "cell_type": "markdown",
   "metadata": {},
   "source": [
    "### What is a distance?"
   ]
  },
  {
   "cell_type": "markdown",
   "metadata": {
    "slideshow": {
     "slide_type": "slide"
    }
   },
   "source": [
    "### How about Manhattan\n",
    "$d(x,y) = \\sum_{i=1}^{k}|x_i-y_i|$"
   ]
  },
  {
   "cell_type": "code",
   "execution_count": 2,
   "metadata": {
    "slideshow": {
     "slide_type": "-"
    }
   },
   "outputs": [
    {
     "data": {
      "image/png": "[encoded data removed]",
      "text/plain": [
       "<Figure size 432x432 with 1 Axes>"
      ]
     },
     "metadata": {
      "needs_background": "light"
     },
     "output_type": "display_data"
    }
   ],
   "source": [
    "d = pd.DataFrame({'a': [1,2,2,3,3],'b': [1,1,2,2,3]})\n",
    "_ = plt.figure(figsize = (6,6))\n",
    "_ = plt.plot(d.a, d.b, color = 'orange', linewidth = 2)\n",
    "_ = plt.scatter(d.a[[0,4]], d.b[[0,4]], marker = 'x', linewidth = 4)\n",
    "_ = plt.ylim((0.5, 3.5))\n",
    "_ = plt.xlim((0.5, 3.5))"
   ]
  },
  {
   "cell_type": "markdown",
   "metadata": {
    "slideshow": {
     "slide_type": "slide"
    }
   },
   "source": [
    "### Euclidean\n",
    "$d(x,y) = \\sum_{i=1}^{k}\\sqrt{(x_i-y_i)^2}$"
   ]
  },
  {
   "cell_type": "code",
   "execution_count": 3,
   "metadata": {},
   "outputs": [
    {
     "data": {
      "image/png": "[encoded data removed]",
      "text/plain": [
       "<Figure size 432x432 with 1 Axes>"
      ]
     },
     "metadata": {
      "needs_background": "light"
     },
     "output_type": "display_data"
    }
   ],
   "source": [
    "e = pd.DataFrame({'a': np.linspace(1,3,21), 'b': np.linspace(1,3,21)})\n",
    "_ = plt.figure(figsize = (6,6))\n",
    "_ = plt.plot(e.a, e.b, color = 'orange', linewidth = 2)\n",
    "_ = plt.scatter(e.a[[0,20]], e.b[[0,20]], marker = 'x', linewidth = 4)\n",
    "_ = plt.ylim((0.5, 3.5))\n",
    "_ = plt.xlim((0.5, 3.5))"
   ]
  },
  {
   "cell_type": "markdown",
   "metadata": {
    "slideshow": {
     "slide_type": "slide"
    }
   },
   "source": [
    "### Non-numerical data?\n",
    "- similarity\n",
    "<br><br>\n",
    "- hamming\n",
    "    - $H(x,y) = \\sum_{i=1}^{k} 1_{x_{i} \\ne y_{i}}$\n",
    "<br><br>\n",
    "- for mixed data\n",
    "    - scale dummies\n",
    "    - Gower metric (scaled distances)\n",
    "    - $G(x,y) = \\frac{1}{k} \\sum_{i=1}^{k} \\frac{|x_{i} - y_{i}|}{range(var_i)} $"
   ]
  },
  {
   "cell_type": "markdown",
   "metadata": {
    "slideshow": {
     "slide_type": "slide"
    }
   },
   "source": [
    "### Honorable mention - Cosine\n",
    "$$d(x,y) = \\frac{\\sum_{i=1}^{k} x_{i}y_{i}}{\\sqrt{\\sum_{i=1}^{k} x_{i}^2} \\sqrt{\\sum_{i=1}^{k} y_{i}^2}}$$"
   ]
  },
  {
   "cell_type": "markdown",
   "metadata": {
    "slideshow": {
     "slide_type": "slide"
    }
   },
   "source": [
    "### Curse of dimensionality (sparsity)"
   ]
  },
  {
   "cell_type": "code",
   "execution_count": 4,
   "metadata": {},
   "outputs": [
    {
     "name": "stdout",
     "output_type": "stream",
     "text": [
      "euclidean =  4.242640687119285\n",
      "limit     =  5.830951894845301\n",
      "cosine    =  0.5294117647058824\n"
     ]
    }
   ],
   "source": [
    "one = np.zeros(69)\n",
    "one[:17] = 1\n",
    "\n",
    "two = np.zeros(69)\n",
    "two[9:26] = 1\n",
    "\n",
    "print('euclidean =  ' + str(np.linalg.norm(one - two)))\n",
    "print('limit     =  ' + str(np.sqrt(np.linalg.norm(one)**2 + np.linalg.norm(two)**2)))\n",
    "print('cosine    =  ' + str(dst.cosine(one, two)))"
   ]
  },
  {
   "cell_type": "markdown",
   "metadata": {
    "slideshow": {
     "slide_type": "slide"
    }
   },
   "source": [
    "## Part 7 - Classification"
   ]
  },
  {
   "cell_type": "markdown",
   "metadata": {},
   "source": [
    "### What if we classify using distance?\n",
    "The label from the closest point from training set will be used as prediction?"
   ]
  },
  {
   "cell_type": "markdown",
   "metadata": {
    "slideshow": {
     "slide_type": "slide"
    }
   },
   "source": [
    "### kNN algorithm\n",
    "- for each unlabeled point\n",
    "    - find k nearest labeled points\n",
    "    - assign (weighted) majority vote class\n",
    "<br><br>\n",
    "- lazy learning"
   ]
  },
  {
   "cell_type": "markdown",
   "metadata": {},
   "source": [
    "<div style=\"float: left; width: 50%;\"><br>\n",
    "    <font size=3><b>advantages</b></font>\n",
    "    <ul>\n",
    "        <li>simple</li>\n",
    "        <li>good performance for large data</li>\n",
    "    </ul>\n",
    "</div>\n",
    "\n",
    "<div style=\"float: right; width: 50%;\"><br>\n",
    "    <font size=3><b>disadvantages</b></font><br>\n",
    "    <ul>\n",
    "        <li>greedy</li>\n",
    "        <li>very costly for large data</li>\n",
    "    </ul>\n",
    "</div>"
   ]
  },
  {
   "cell_type": "markdown",
   "metadata": {
    "slideshow": {
     "slide_type": "slide"
    }
   },
   "source": [
    "### How to determine K?"
   ]
  },
  {
   "cell_type": "code",
   "execution_count": 5,
   "metadata": {},
   "outputs": [
    {
     "data": {
      "image/png": "[encoded data removed]",
      "text/plain": [
       "<Figure size 1152x576 with 1 Axes>"
      ]
     },
     "metadata": {
      "needs_background": "light"
     },
     "output_type": "display_data"
    }
   ],
   "source": [
    "knee = pd.DataFrame(\n",
    "    {'k': np.linspace(1,10,10),\n",
    "     'acc': [0.3, 0.4, 0.47, 0.53, 0.58, 0.59, 0.60, 0.61, 0.615, 0.62]}\n",
    ")\n",
    "_ = plt.figure(figsize = (16, 8))\n",
    "_ = plt.plot(knee.k, knee.acc, linewidth = 2)\n",
    "_ = plt.scatter(knee.k, knee.acc, color = 'orange', linewidth = 3)"
   ]
  },
  {
   "cell_type": "markdown",
   "metadata": {
    "slideshow": {
     "slide_type": "slide"
    }
   },
   "source": [
    "### Tips & Tricks - kNN in Python"
   ]
  },
  {
   "cell_type": "code",
   "execution_count": 6,
   "metadata": {},
   "outputs": [],
   "source": [
    "\"\"\"\n",
    "# Let's build first recommender!\n",
    "# I have (semi-randomly) chosen user with ID = 21877\n",
    "# (and I recommend you to use the same one for now)\n",
    "\n",
    "from sklearn.model_selection import train_test_split\n",
    "from sklearn.neighbors import KNeighborsClassifier as knn_cls\n",
    "x_tr, y_tr, x_te, y_te = train_test_split(x, y, size = 0.2) # usually either 10% or 20%\n",
    "\n",
    "# find __k__ neighbors\n",
    "knn = KNeighborsClassifier(n_neighbors = __k__, n_jobs= -1)\n",
    "knn_trained = knn.fit(x_tr, y_tr)\n",
    "knn_trained.score(x_te, y_te)\n",
    "\"\"\"\n",
    "display()"
   ]
  },
  {
   "cell_type": "markdown",
   "metadata": {
    "slideshow": {
     "slide_type": "slide"
    }
   },
   "source": [
    "## Part 8 - PCA\n",
    "- data transformation method\n",
    "    - correlated variables into uncorrelated\n",
    "- useful for dimension reduction\n",
    "- produces new orthogonal \"variables\"\n",
    "    - linear combination of the original ones"
   ]
  },
  {
   "cell_type": "markdown",
   "metadata": {
    "slideshow": {
     "slide_type": "slide"
    }
   },
   "source": [
    "### The linear algebra part\n",
    "- projections and multiplication\n",
    "    - any (linear) transformation can be expressed as matrix multiplication\n",
    "    - linear ~ no functions like $\\sin{x}$, $\\cos{x}$, or $x^2$\n",
    "- eigen - vectors & values"
   ]
  },
  {
   "cell_type": "markdown",
   "metadata": {
    "slideshow": {
     "slide_type": "slide"
    }
   },
   "source": [
    "### Components\n",
    "- basically the **unit** eigenvectors of covariance matrix\n",
    "- new **axes**\n",
    "- sorted according to amount of variance explained\n",
    "    - proportion of explained variance equals proportion of eigenvalues\n",
    "    - first component captures the highest amount of variance\n",
    "- dimension reduction = choosing **k** components"
   ]
  },
  {
   "cell_type": "markdown",
   "metadata": {
    "slideshow": {
     "slide_type": "slide"
    }
   },
   "source": [
    "### Math behind\n",
    "$C = covariance \\; matrix \\; k \\times k$  \n",
    "$w = vector, \\; k \\times 1, \\; ||w|| = 1$  \n",
    "$\\lambda \\in R$  \n",
    "\n",
    "Lagrange, maximise:    \n",
    "$L = w^{T}Cw - \\lambda(w^{T}w - 1)$  \n",
    "$\\frac{\\partial L}{\\partial w} = 0 \\Rightarrow Cw - \\lambda w =0$  \n",
    "\n",
    "Substitute back:  \n",
    "$w^{T}Cw - \\lambda(w^{T}w-1) = w^{T}Cw = \\lambda w^{T} w = \\lambda$\n"
   ]
  },
  {
   "cell_type": "markdown",
   "metadata": {
    "slideshow": {
     "slide_type": "slide"
    }
   },
   "source": [
    "### Tips & Tricks - PCA in Python"
   ]
  },
  {
   "cell_type": "code",
   "execution_count": 7,
   "metadata": {
    "slideshow": {
     "slide_type": "-"
    }
   },
   "outputs": [],
   "source": [
    "\"\"\"\n",
    "# Let's try express the 69 tags with small number of components!\n",
    "# Will the kNN work better on PCA transformed table?\n",
    "\n",
    "from sklearn.decomposition import PCA\n",
    "pca = PCA().fit(x)\n",
    "pca.explained_variance_ratio_\n",
    "pca.components_\n",
    "\n",
    "# choose __k__ components\n",
    "x_pca = PCA(n_components = __k__).fit_transform(x)\n",
    "\"\"\"\n",
    "display()"
   ]
  }
 ],
 "metadata": {
  "celltoolbar": "Slideshow",
  "kernelspec": {
   "display_name": "Python 3",
   "language": "python",
   "name": "python3"
  },
  "language_info": {
   "codemirror_mode": {
    "name": "ipython",
    "version": 3
   },
   "file_extension": ".py",
   "mimetype": "text/x-python",
   "name": "python",
   "nbconvert_exporter": "python",
   "pygments_lexer": "ipython3",
   "version": "3.7.3"
  }
 },
 "nbformat": 4,
 "nbformat_minor": 2
}
