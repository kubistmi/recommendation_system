{
 "cells": [
  {
   "cell_type": "code",
   "execution_count": 1,
   "metadata": {
    "slideshow": {
     "slide_type": "skip"
    }
   },
   "outputs": [],
   "source": [
    "# jupyter tricks\n",
    "from IPython.core.display import display, HTML\n",
    "\n",
    "import numpy as np\n",
    "import pandas as pd\n",
    "import matplotlib.pyplot as plt\n",
    "import random"
   ]
  },
  {
   "cell_type": "markdown",
   "metadata": {
    "slideshow": {
     "slide_type": "slide"
    }
   },
   "source": [
    "# ML basics & OLS\n",
    "### The fancy stuff"
   ]
  },
  {
   "cell_type": "markdown",
   "metadata": {
    "slideshow": {
     "slide_type": "slide"
    }
   },
   "source": [
    "## Part 3 - Introduction to ML"
   ]
  },
  {
   "cell_type": "markdown",
   "metadata": {
    "slideshow": {
     "slide_type": "-"
    }
   },
   "source": [
    "### What can machines learn?\n",
    "supervised learning:\n",
    "- regression\n",
    "- classification\n",
    "\n",
    "unsupervised learning:\n",
    "- clustering\n",
    "- mapping"
   ]
  },
  {
   "cell_type": "markdown",
   "metadata": {
    "slideshow": {
     "slide_type": "slide"
    }
   },
   "source": [
    "### How do machines learn?\n",
    "\n",
    "- optimisation\n",
    "    - highest accuracy\n",
    "    - lowest variance\n",
    "\n",
    "$RMSE$ = $\\sqrt{\\frac{\\sum_{i=1}^{n}e_i^2}{n}}$  \n",
    "$R^2$ = $1 - \\frac{SSR}{SST}$<br><br>\n",
    "$acc$ = $\\frac{\\sum_{i=1}^{n} 1 - |\\hat y_i - y_i|}{n}$  \n",
    "$entrophy$ = $\\sum_{i=1}^{J}-p_i * log_2(p_i)$  \n",
    "$gini$ = $1 - \\sum_{i=1}^{J} p_i^2$  \n",
    "<br><br>\n",
    "and like milion other metrics"
   ]
  },
  {
   "cell_type": "markdown",
   "metadata": {
    "slideshow": {
     "slide_type": "slide"
    }
   },
   "source": [
    "### Regression problems?"
   ]
  },
  {
   "cell_type": "code",
   "execution_count": 2,
   "metadata": {},
   "outputs": [
    {
     "data": {
      "image/png": "[encoded data removed]",
      "text/plain": [
       "<Figure size 1152x576 with 1 Axes>"
      ]
     },
     "metadata": {
      "needs_background": "light"
     },
     "output_type": "display_data"
    }
   ],
   "source": [
    "x = list(range(-200, 130))\n",
    "inp = pd.DataFrame({'x':x, 'error': [0.01 * i**4 + i**3 - 200*i**2 + 3*10**6 for i in x]})\n",
    "_ = plt.figure(figsize = (16,8))\n",
    "_ = plt.plot(inp.x, inp.error)\n",
    "plt.show()"
   ]
  },
  {
   "cell_type": "markdown",
   "metadata": {
    "slideshow": {
     "slide_type": "slide"
    }
   },
   "source": [
    "### Classification problems?"
   ]
  },
  {
   "cell_type": "markdown",
   "metadata": {},
   "source": [
    "Assume that 0.1 % of population has an illness.  \n",
    "We want to build a model that will predict (based on some symptoms),  \n",
    "whether the individual is healthy or not.  \n",
    "\n",
    "Our model is able to predict with 99.9 % accuracy.\n",
    "\n",
    "- What is the problem?"
   ]
  },
  {
   "cell_type": "markdown",
   "metadata": {
    "slideshow": {
     "slide_type": "slide"
    }
   },
   "source": [
    "####  Inbalanced classification\n",
    "- the most accurate prediction is to say everyone is healthy\n",
    "- not very helpful\n",
    "- how to spot?\n",
    "    - EDA\n",
    "    - confusion matrix"
   ]
  },
  {
   "cell_type": "code",
   "execution_count": 3,
   "metadata": {},
   "outputs": [
    {
     "data": {
      "text/html": [
       "<div>\n",
       "<style scoped>\n",
       "    .dataframe tbody tr th:only-of-type {\n",
       "        vertical-align: middle;\n",
       "    }\n",
       "\n",
       "    .dataframe tbody tr th {\n",
       "        vertical-align: top;\n",
       "    }\n",
       "\n",
       "    .dataframe thead th {\n",
       "        text-align: right;\n",
       "    }\n",
       "</style>\n",
       "<table border=\"1\" class=\"dataframe\">\n",
       "  <thead>\n",
       "    <tr style=\"text-align: right;\">\n",
       "      <th></th>\n",
       "      <th>actual=1</th>\n",
       "      <th>actual=0</th>\n",
       "    </tr>\n",
       "  </thead>\n",
       "  <tbody>\n",
       "    <tr>\n",
       "      <th>pred=1</th>\n",
       "      <td>99.9</td>\n",
       "      <td>0.1</td>\n",
       "    </tr>\n",
       "    <tr>\n",
       "      <th>pred=0</th>\n",
       "      <td>0.0</td>\n",
       "      <td>0.0</td>\n",
       "    </tr>\n",
       "  </tbody>\n",
       "</table>\n",
       "</div>"
      ],
      "text/plain": [
       "        actual=1  actual=0\n",
       "pred=1      99.9       0.1\n",
       "pred=0       0.0       0.0"
      ]
     },
     "execution_count": 3,
     "metadata": {},
     "output_type": "execute_result"
    }
   ],
   "source": [
    "conf = np.array([99.9, 0.1, 0, 0]).reshape(2, 2)\n",
    "conf = pd.DataFrame(conf)\n",
    "(\n",
    "    conf\n",
    "    .set_index(pd.Index([\"pred=1\", \"pred=0\"]))\n",
    "    .rename({0:\"actual=1\",1:\"actual=0\"}, axis = 1)\n",
    ")"
   ]
  },
  {
   "cell_type": "markdown",
   "metadata": {
    "slideshow": {
     "slide_type": "slide"
    }
   },
   "source": [
    "#### Solution?\n",
    "- oversample?\n",
    "- undersample?\n",
    "- hybrid\n",
    "- weighting\n"
   ]
  },
  {
   "cell_type": "markdown",
   "metadata": {
    "slideshow": {
     "slide_type": "slide"
    }
   },
   "source": [
    "### Statistics vs ML?\n",
    "main difference = **DATA**"
   ]
  },
  {
   "cell_type": "markdown",
   "metadata": {},
   "source": [
    "<div style=\"float: left; width: 50%;\">\n",
    "\n",
    "<b>statistics</b><br>  \n",
    "\n",
    "based on mathematical methods<br>\n",
    "very strict framework<br>\n",
    "sometimes you best option<br>  \n",
    "</div>\n",
    "\n",
    "<div style=\"float: right; width: 50%;\">\n",
    "\n",
    "<b>ML</b><br>  \n",
    "\n",
    "based on computer methods<br>\n",
    "loose framework<br>\n",
    "working in limit (assymptotic)<br>\n",
    "</div>"
   ]
  },
  {
   "cell_type": "markdown",
   "metadata": {},
   "source": [
    "- estimation vs measuring the error\n",
    "    - efficiency\n",
    "- assumptions vs data\n",
    "\n",
    "<hr>\n",
    "\n",
    "- variance bias trade-off\n",
    "- complexity vs accuracy\n",
    "- concept similar to degrees of freedom"
   ]
  },
  {
   "cell_type": "markdown",
   "metadata": {
    "slideshow": {
     "slide_type": "slide"
    }
   },
   "source": [
    "## Part 4 - Linear regression"
   ]
  },
  {
   "cell_type": "markdown",
   "metadata": {
    "slideshow": {
     "slide_type": "slide"
    }
   },
   "source": [
    "<font color = 'red'><b>O</b></font>rdinary <font color = 'red'><b>L</b></font>east <font color = 'red'><b>S</b></font>quares  \n",
    "<font color = 'red'><b>L</b></font>inear <font color = 'red'><b>M</b></font>odels  \n",
    "Line fitting?"
   ]
  },
  {
   "cell_type": "code",
   "execution_count": 4,
   "metadata": {},
   "outputs": [
    {
     "data": {
      "image/png": "[encoded data removed]",
      "text/plain": [
       "<Figure size 1152x576 with 1 Axes>"
      ]
     },
     "metadata": {
      "needs_background": "light"
     },
     "output_type": "display_data"
    }
   ],
   "source": [
    "x=list(range(50))\n",
    "y = [3*i + 2 + np.random.normal(scale = 20) for i in x]\n",
    "_ = plt.figure(figsize = (16,8))\n",
    "_ = plt.scatter(x, y, marker = 'x')\n",
    "_ = plt.plot(x, [3*i + 2 for i in x], color = 'orange')"
   ]
  },
  {
   "cell_type": "markdown",
   "metadata": {
    "slideshow": {
     "slide_type": "slide"
    }
   },
   "source": [
    "### Intro\n",
    "originally a statistical tool  \n",
    "adopted into ML  \n",
    "incredibly useful framework\n",
    "- baseline model\n",
    "- quick learning = $O(nk^2)$\n",
    "    - <font color = 'red'><b>ONLY for large number of variables !!! </b></font>\n",
    "   \n"
   ]
  },
  {
   "cell_type": "markdown",
   "metadata": {
    "slideshow": {
     "slide_type": "slide"
    }
   },
   "source": [
    "### Objective\n",
    "$y = x\\beta + \\epsilon$  \n",
    "\n",
    "y = true value, $n \\times 1$  \n",
    "x = predictors, $n \\times k$  \n",
    "$\\beta$ = coefficients, $k \\times 1$  \n",
    "$\\epsilon$ = random noise, $n \\times 1$\n",
    "\n"
   ]
  },
  {
   "cell_type": "markdown",
   "metadata": {},
   "source": [
    "##### minimise errors:  \n",
    "$\\epsilon = y - x\\beta$\n",
    "\n",
    "##### actually, squared errors:  \n",
    "$\\epsilon^2 = (y - x\\beta)^2$"
   ]
  },
  {
   "cell_type": "markdown",
   "metadata": {
    "slideshow": {
     "slide_type": "slide"
    }
   },
   "source": [
    "### Two approaches\n",
    "\n",
    "<div style=\"float: left; width: 50%;\"><br>\n",
    "    <font size=3><b>statistics</b></font><br>\n",
    "    Gaus-Markov assumptions (6)<br>\n",
    "    process:<br>\n",
    "    <ol>\n",
    "        <li>estimate</li>\n",
    "        <li>run statistical tests</li>\n",
    "        <li>check significance</li>\n",
    "    </ol>\n",
    "</div>\n",
    "\n",
    "<div style=\"float: right; width: 50%;\"><br>\n",
    "    <font size=3><b>ML</b></font><br>\n",
    "    process:<br>\n",
    "    <ol>\n",
    "        <li>estimate</li>\n",
    "        <li>measure the performance</li>\n",
    "    </ol>\n",
    "    if you want to reliably predict out of range of the data<br>\n",
    "    <b>&rArr; go back to Gaus-Markov</b>\n",
    "</div>"
   ]
  },
  {
   "cell_type": "markdown",
   "metadata": {
    "slideshow": {
     "slide_type": "slide"
    }
   },
   "source": [
    "### Tips & Tricks - OLS in Python"
   ]
  },
  {
   "cell_type": "code",
   "execution_count": 5,
   "metadata": {},
   "outputs": [],
   "source": [
    "\"\"\"\n",
    "# STATISTICS\n",
    "import statsmodels.api as sm\n",
    "lm_estimate = sm.OLS(y, x).fit()\n",
    "# y = N x 1 (numpy ndarray, pandas Series)\n",
    "# x = N x K (numpy ndarray, pandas DataFrame)\n",
    "lm_estimate.summary()\n",
    "resid = lm_estimate.resid\n",
    "\n",
    "# ML\n",
    "from sklearn.linear_model import LinearRegression as ols\n",
    "sklr_estimate = ols().fit(reg_x, reg_y\n",
    "sklr_estimate.coef_\n",
    "resid = sklr_estimate.predict(reg_x) - reg_y\n",
    "\"\"\"\n",
    "display()"
   ]
  },
  {
   "cell_type": "markdown",
   "metadata": {
    "slideshow": {
     "slide_type": "slide"
    }
   },
   "source": [
    "## Part 5 - LASSO"
   ]
  },
  {
   "cell_type": "markdown",
   "metadata": {
    "slideshow": {
     "slide_type": "slide"
    }
   },
   "source": [
    "<font size=4><b>Something is rotten in the OLS.</b><font><br>\n",
    "<font size=2>-Shakespear. If you don't believe, try to prove me wrong...</font>"
   ]
  },
  {
   "cell_type": "markdown",
   "metadata": {},
   "source": [
    "### OLS overview\n",
    "- very simplistic\n",
    "- very powerful (depends on meeting the assumptions)\n",
    "- very scalable with number of observations (rows)\n"
   ]
  },
  {
   "cell_type": "markdown",
   "metadata": {
    "slideshow": {
     "slide_type": "-"
    }
   },
   "source": [
    "### The curse of dimensionality\n",
    "- OLS gives always nonzero estimates\n",
    "    - for every coefficient\n",
    "- for large number of variables it is $O(C^3)$\n",
    "    - one doesn't simply estimate a cubic time complexity model"
   ]
  },
  {
   "cell_type": "markdown",
   "metadata": {
    "slideshow": {
     "slide_type": "slide"
    }
   },
   "source": [
    "### How about we punish the nonzero coefficients?\n",
    "**regularization**\n",
    "\n",
    "$\\underset{\\beta}{\\operatorname{argmin}} \\sum_{i=1}^{n}(y_i - x_i^T\\beta_i)^2 + \\alpha\\sum_{j=1}^{k}|\\beta_j|$  \n",
    "<br>\n",
    "$\\alpha$ = scalling parameter:\n",
    "\n",
    "**coefficients**\n",
    "- can be in units (1% increase every year)\n",
    "- in thousands (wage increase with year of work experience)\n",
    "- and anything else\n",
    "\n",
    "**residuals**\n",
    "- can be in units (banknote sizes in milimeters based on when it was manufactured)\n",
    "- milions (GDP predictions)\n",
    "- anything else"
   ]
  },
  {
   "cell_type": "markdown",
   "metadata": {
    "slideshow": {
     "slide_type": "slide"
    }
   },
   "source": [
    "### Tips & Tricks - LASSO in Python"
   ]
  },
  {
   "cell_type": "code",
   "execution_count": 6,
   "metadata": {},
   "outputs": [],
   "source": [
    "\"\"\"\n",
    "# SINGLE MODEL\n",
    "from sklearn.linear_model import LinearRegression as Lasso\n",
    "lasso = Lasso(alpha = 0.00017433288221999874).fit(x, y)\n",
    "lasso.coef_\n",
    "\n",
    "# CV MODEL\n",
    "from sklearn.model_selection import GridSearchCV\n",
    "lasso = Lasso(random_state=0)\n",
    "alphas = np.logspace(-4, -0.5, 30)\n",
    "n_folds = 5\n",
    "\n",
    "tuned_parameters = [{'alpha': alphas}]\n",
    "\n",
    "cvl = GridSearchCV(lasso, tuned_parameters, cv = n_folds, n_jobs = -1)\n",
    "cvl.fit(x, y)\n",
    "\n",
    "scores = cvl.cv_results_['mean_test_score']\n",
    "scores_std = cvl.cv_results_['std_test_score']\n",
    "std_error = scores_std / np.sqrt(n_folds)\n",
    "\"\"\"\n",
    "display()"
   ]
  }
 ],
 "metadata": {
  "celltoolbar": "Slideshow",
  "kernelspec": {
   "display_name": "Python 3",
   "language": "python",
   "name": "python3"
  },
  "language_info": {
   "codemirror_mode": {
    "name": "ipython",
    "version": 3
   },
   "file_extension": ".py",
   "mimetype": "text/x-python",
   "name": "python",
   "nbconvert_exporter": "python",
   "pygments_lexer": "ipython3",
   "version": "3.7.3"
  }
 },
 "nbformat": 4,
 "nbformat_minor": 2
}
