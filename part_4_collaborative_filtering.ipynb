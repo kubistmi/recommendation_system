{
 "cells": [
  {
   "cell_type": "code",
   "execution_count": 1,
   "metadata": {
    "slideshow": {
     "slide_type": "skip"
    }
   },
   "outputs": [],
   "source": [
    "# jupyter tricks\n",
    "from IPython.core.display import display, HTML\n",
    "import base64"
   ]
  },
  {
   "cell_type": "markdown",
   "metadata": {
    "slideshow": {
     "slide_type": "slide"
    }
   },
   "source": [
    "# Collaborative Filtering & Clustering\n",
    "### Just when you thought there is no more lingebra"
   ]
  },
  {
   "cell_type": "markdown",
   "metadata": {
    "slideshow": {
     "slide_type": "slide"
    }
   },
   "source": [
    "## Part 9 - Collaboration\n",
    "can we measure the distance between items or users based on ratings?\n",
    "- users/items with similar ratings closer"
   ]
  },
  {
   "cell_type": "markdown",
   "metadata": {
    "slideshow": {
     "slide_type": "slide"
    }
   },
   "source": [
    "### Basic framework\n",
    "- build incidence matrix\n",
    "    - users as rows\n",
    "    - items as columns\n",
    "    - rating as values\n",
    "- build co-incidence matrix\n",
    "    - $user\\times user$\n",
    "    - $item \\times item$"
   ]
  },
  {
   "cell_type": "markdown",
   "metadata": {},
   "source": [
    "<div style=\"float: left; width: 50%;\"><br>\n",
    "    <font size=3><b>user - UBCF</b></font>\n",
    "    <ul>\n",
    "        <li>find users most similar to chosen user</li>\n",
    "        <li>recommend the best rated items of these users</li>\n",
    "    </ul>\n",
    "</div>\n",
    "\n",
    "<div style=\"float: right; width: 50%;\"><br>\n",
    "    <font size=3><b>item - IBFC</b></font><br>\n",
    "    <ul>\n",
    "        <li>find user's best rated items</li>\n",
    "        <li>recommend items most similar to those</li>\n",
    "    </ul>\n",
    "</div>"
   ]
  },
  {
   "cell_type": "markdown",
   "metadata": {
    "slideshow": {
     "slide_type": "slide"
    }
   },
   "source": [
    "### Speaking mathematically\n",
    "$UI$ = incidence matrix, $n\\times k$  \n",
    "$I = UI^T \\times UI$ item-item coincidence matrix, $k \\times k$  \n",
    "$U = UI \\times UI^T$ user-user coincidence matrix, $n \\times n$"
   ]
  },
  {
   "cell_type": "markdown",
   "metadata": {
    "slideshow": {
     "slide_type": "slide"
    }
   },
   "source": [
    "### Problems?\n",
    "- rating format?\n",
    "    - binary, actual, NA\n",
    "- data size\n",
    "    - sparse matrices are a must!\n",
    "- matrix multiplication is $O(n^2k)$ for $n \\times k * k \\times n$"
   ]
  },
  {
   "cell_type": "markdown",
   "metadata": {
    "slideshow": {
     "slide_type": "slide"
    }
   },
   "source": [
    "### Tips & Tricks - IBCF in Python"
   ]
  },
  {
   "cell_type": "code",
   "execution_count": 2,
   "metadata": {},
   "outputs": [],
   "source": [
    "\"\"\"\n",
    "# Let's try ICBF first:\n",
    "# we need to make sure the IDs are all integers from 1 to X\n",
    "# e.g. [1, 2, 3, 4, 5, 6, 7]\n",
    "# if yes, then we can use them as indexes\n",
    "# if not, we need to relevel them\n",
    "\n",
    "from scipy import sparse\n",
    "\n",
    "UI = sparse.csr_matrix((values, (row_indexes, col_indexes))\n",
    "UI.transpose() @ UI # transpose and matrix multiplication\n",
    "UI.toarray()\n",
    "\"\"\"\n",
    "display()"
   ]
  },
  {
   "cell_type": "markdown",
   "metadata": {
    "slideshow": {
     "slide_type": "slide"
    }
   },
   "source": [
    "## Part 9 and 3/4\n",
    "- so, item-item collaboration should work...  \n",
    "    - matrix multiplication results in 10k $\\times$ 10k matrix\n",
    "- not so lucky with users\n",
    "    - 53k $\\times$ 53k is probably too much\n",
    "- still trivial compared to the usual companies:\n",
    "    - Goodreads =  85M $\\times$ 2.5B\n",
    "    - IMDB = 83M $\\times$ 5.6M\n",
    "    - spotify = 180M $\\times$ 35M\n",
    "    - youtube = 1.3B $\\times$ 7B"
   ]
  },
  {
   "cell_type": "markdown",
   "metadata": {
    "slideshow": {
     "slide_type": "slide"
    }
   },
   "source": [
    "### What to do now?\n",
    "- PCA?"
   ]
  },
  {
   "cell_type": "markdown",
   "metadata": {
    "slideshow": {
     "slide_type": "slide"
    }
   },
   "source": [
    "### What to do now?\n",
    "- PCA?\n",
    "- not really, the number of variables is not that big of a problem now"
   ]
  },
  {
   "cell_type": "markdown",
   "metadata": {
    "slideshow": {
     "slide_type": "slide"
    }
   },
   "source": [
    "### What to do now?\n",
    "- can we pre-group similar users together?"
   ]
  },
  {
   "cell_type": "markdown",
   "metadata": {
    "slideshow": {
     "slide_type": "slide"
    }
   },
   "source": [
    "## Part 10 - Clustering\n",
    "- unsupervised learning\n",
    "    - no learning the rules, no predictions\n",
    "    - \"classify\" without training\n",
    "- distance based methodology\n",
    "- objective: internally homogenous and externally heterogenous groups\n",
    "    - minimize within SS\n",
    "    - maximize between SS\n",
    "- highly sensitive to distance specification\n",
    "    - scalling!"
   ]
  },
  {
   "cell_type": "markdown",
   "metadata": {
    "slideshow": {
     "slide_type": "slide"
    }
   },
   "source": [
    "### Most common algorithms\n",
    "- k-Means = quick go-to methodology\n",
    "- hierarchical = not very scallable\n",
    "- DBSCAN = complex technique\n",
    "- [more here](https://scikit-learn.org/stable/modules/clustering.html)"
   ]
  },
  {
   "cell_type": "markdown",
   "metadata": {
    "slideshow": {
     "slide_type": "slide"
    }
   },
   "source": [
    "## k-Means\n",
    "- segment data into **K** clusters\n",
    "- greedy: will cluster all observations\n",
    "    - outliers, bad data\n",
    "    - hard clustering\n",
    "- <font color = \"red\"> **centers** </font>\n",
    "    - centroids of the clusters\n",
    "    - mean in all dimensions"
   ]
  },
  {
   "cell_type": "markdown",
   "metadata": {
    "slideshow": {
     "slide_type": "slide"
    }
   },
   "source": [
    "### k-Means Algorithm\n",
    "1. choose **K** observations randomly\n",
    "2. update **centers**\n",
    "    - **for** each **observation**:\n",
    "        - calculate **distance** to each **center**\n",
    "        - assign observation to the closest **center**\n",
    "    - if no observation changes mebership\n",
    "        - **break**\n",
    "3. calculate the **centroid** of each cluster\n",
    "    - **centroids** will be assigned as new **centers**\n",
    "    - repeat from 2."
   ]
  },
  {
   "cell_type": "code",
   "execution_count": 3,
   "metadata": {
    "slideshow": {
     "slide_type": "slide"
    }
   },
   "outputs": [
    {
     "data": {
      "text/html": [
       "<video width=\"800\" height=\"500\" alt=\"test\" controls>\n",
       "             <source src=\"data:video/mp4;base64,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\" type=\"video/mp4\" />\n",
       "             </video>"
      ],
      "text/plain": [
       "<IPython.core.display.HTML object>"
      ]
     },
     "execution_count": 3,
     "metadata": {},
     "output_type": "execute_result"
    }
   ],
   "source": [
    "video = open('www/kMeans_anim.mp4', \"rb\").read()\n",
    "encoded = base64.b64encode(video)\n",
    "HTML(data='''<video width=\"800\" height=\"500\" alt=\"test\" controls>\n",
    "             <source src=\"data:video/mp4;base64,{0}\" type=\"video/mp4\" />\n",
    "             </video>'''.format(encoded.decode('ascii')))"
   ]
  },
  {
   "cell_type": "markdown",
   "metadata": {
    "slideshow": {
     "slide_type": "slide"
    }
   },
   "source": [
    "### k-Means summary\n",
    "- forget the clusters, find the appropriate centers\n",
    "- algorithm assumptions:\n",
    "    - spherical data\n",
    "    - constant variance across variables\n",
    "    - similar number of members\n",
    "- greedy algorithm\n",
    "    - initialization problem\n",
    "- argument **K** needs to be optimised\n",
    "    - usually via elbow method (like kNN)"
   ]
  },
  {
   "cell_type": "markdown",
   "metadata": {
    "slideshow": {
     "slide_type": "slide"
    }
   },
   "source": [
    "### Tips & Tricks - k-Means in Python"
   ]
  },
  {
   "cell_type": "code",
   "execution_count": 4,
   "metadata": {},
   "outputs": [],
   "source": [
    "\"\"\"\n",
    "# Let's try clustering the users based on incidence matrix\n",
    "# so based on how they have rated different movies\n",
    "\n",
    "from sklearn.cluster import KMeans           # typical usage\n",
    "from sklearn.cluster import MiniBatchKMeans  # faster shortcut\n",
    "\n",
    "# give me __k__ clusters\n",
    "\n",
    "kmeans = MiniBatchKMeans(n_clusters=__k__, batch_size = sample_size).fit(data)\n",
    "withinss = kmeans.inertia_\n",
    "\"\"\"\n",
    "display()"
   ]
  },
  {
   "cell_type": "markdown",
   "metadata": {
    "slideshow": {
     "slide_type": "slide"
    }
   },
   "source": [
    "## Part 11 - SVD\n",
    "if you didn't have enough lingebra so far.\n"
   ]
  },
  {
   "cell_type": "markdown",
   "metadata": {
    "slideshow": {
     "slide_type": "slide"
    }
   },
   "source": [
    "### Different kind of grouping\n",
    "- similar to PCA\n",
    "- are there some **latent factors** that well describe the items?\n",
    "    - better than original variables?\n",
    "- decomposes the matrix into 3 sub-matrices\n",
    "    - u = user-factor\n",
    "    - s = singular values (~ variance explained)\n",
    "    - v = factor-item"
   ]
  },
  {
   "cell_type": "markdown",
   "metadata": {
    "slideshow": {
     "slide_type": "slide"
    }
   },
   "source": [
    "### Last bit of math\n",
    "$UI = u*s*v$  \n",
    "\n",
    "let's forget s for now (it's just a scalling matrix)  \n",
    "every user's rating should be expressable using the two matrices:  \n",
    "$$r_{ij} = u_i*v_j + e_{ij}$$  \n",
    "$$\\underset{u,v}{\\operatorname{argmin}} = \\sum_{i=1}^{n}\\sum_{j=1}^{k} (r_{ij} - u_i*v_j)^2$$\n",
    "\n",
    "and add regularization  \n",
    "$$\\underset{u,v}{\\operatorname{argmin}} = \\sum_{i=1}^{n}\\sum_{j=1}^{k} (r_{ij} - u_i*v_j)^2 + \\lambda(||u_i||^2+||v_j||^2)$$"
   ]
  },
  {
   "cell_type": "markdown",
   "metadata": {
    "slideshow": {
     "slide_type": "-"
    }
   },
   "source": [
    "### Next steps\n",
    "- run other algorithms on the <b>u</b> or <b>v</b> matrix!\n",
    "    - cluster and UBCF\n",
    "    - kNN\n",
    "    - ..."
   ]
  },
  {
   "cell_type": "markdown",
   "metadata": {
    "slideshow": {
     "slide_type": "slide"
    }
   },
   "source": [
    "### Tips & Tricks - SVD in Python"
   ]
  },
  {
   "cell_type": "code",
   "execution_count": 5,
   "metadata": {},
   "outputs": [],
   "source": [
    "\"\"\"\n",
    "# Let's break the data down!\n",
    "# Try to play with u (user) matrix - kNN might be good idea\n",
    "from scipy import sparse\n",
    "\n",
    "# using __k__ latent factors\n",
    "u, s, v = sparse.linalg.svds(data, __k__)\n",
    "\"\"\"\n",
    "display()"
   ]
  }
 ],
 "metadata": {
  "celltoolbar": "Slideshow",
  "kernelspec": {
   "display_name": "Python 3",
   "language": "python",
   "name": "python3"
  },
  "language_info": {
   "codemirror_mode": {
    "name": "ipython",
    "version": 3
   },
   "file_extension": ".py",
   "mimetype": "text/x-python",
   "name": "python",
   "nbconvert_exporter": "python",
   "pygments_lexer": "ipython3",
   "version": "3.7.3"
  }
 },
 "nbformat": 4,
 "nbformat_minor": 2
}
